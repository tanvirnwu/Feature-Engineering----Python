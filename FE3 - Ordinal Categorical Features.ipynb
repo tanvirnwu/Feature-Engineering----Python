{
 "cells": [
  {
   "cell_type": "markdown",
   "id": "847a97d1",
   "metadata": {},
   "source": [
    "# What is Ordinal Categorical Feature?\n",
    "\n",
    "An ordinal categorical feature is a type of categorical variable that has a natural order or hierarchy associated with its categories. In other words, the categories of an ordinal feature have a meaningful ranking or order, indicating a relative level or position.\n",
    "\n",
    "- Unlike nominal categorical features, where the categories have no inherent order or rank, ordinal features represent a progression or scale. \n",
    "\n",
    "- The important characteristic of ordinal features is that the order or ranking between categories conveys some form of information or significance. \n",
    "\n",
    "It's important to note that the intervals between the categories in an ordinal feature may not be uniform or well-defined. Therefore, when using numerical encoding, it is assumed that the difference between consecutive values carries some meaning, but the magnitude of the difference might not be precisely quantifiable or consistent across the entire range of the feature.\n",
    "\n",
    "\n",
    "**For Example:**\n",
    "- Student's Rank in the class\n",
    "- Ranking of batsman in cricket"
   ]
  },
  {
   "cell_type": "code",
   "execution_count": 1,
   "id": "ae2bc174",
   "metadata": {},
   "outputs": [],
   "source": [
    "import pandas as pd\n",
    "import numpy as np\n",
    "import datetime\n",
    "import warnings as wr\n",
    "wr.filterwarnings('ignore')"
   ]
  },
  {
   "cell_type": "code",
   "execution_count": 2,
   "id": "25e0a34f",
   "metadata": {},
   "outputs": [
    {
     "data": {
      "text/html": [
       "<div>\n",
       "<style scoped>\n",
       "    .dataframe tbody tr th:only-of-type {\n",
       "        vertical-align: middle;\n",
       "    }\n",
       "\n",
       "    .dataframe tbody tr th {\n",
       "        vertical-align: top;\n",
       "    }\n",
       "\n",
       "    .dataframe thead th {\n",
       "        text-align: right;\n",
       "    }\n",
       "</style>\n",
       "<table border=\"1\" class=\"dataframe\">\n",
       "  <thead>\n",
       "    <tr style=\"text-align: right;\">\n",
       "      <th></th>\n",
       "      <th>Day</th>\n",
       "    </tr>\n",
       "  </thead>\n",
       "  <tbody>\n",
       "    <tr>\n",
       "      <th>0</th>\n",
       "      <td>2023-05-27 19:39:56.498532</td>\n",
       "    </tr>\n",
       "    <tr>\n",
       "      <th>1</th>\n",
       "      <td>2023-05-26 19:39:56.498532</td>\n",
       "    </tr>\n",
       "    <tr>\n",
       "      <th>2</th>\n",
       "      <td>2023-05-25 19:39:56.498532</td>\n",
       "    </tr>\n",
       "    <tr>\n",
       "      <th>3</th>\n",
       "      <td>2023-05-24 19:39:56.498532</td>\n",
       "    </tr>\n",
       "    <tr>\n",
       "      <th>4</th>\n",
       "      <td>2023-05-23 19:39:56.498532</td>\n",
       "    </tr>\n",
       "  </tbody>\n",
       "</table>\n",
       "</div>"
      ],
      "text/plain": [
       "                         Day\n",
       "0 2023-05-27 19:39:56.498532\n",
       "1 2023-05-26 19:39:56.498532\n",
       "2 2023-05-25 19:39:56.498532\n",
       "3 2023-05-24 19:39:56.498532\n",
       "4 2023-05-23 19:39:56.498532"
      ]
     },
     "execution_count": 2,
     "metadata": {},
     "output_type": "execute_result"
    }
   ],
   "source": [
    "df_base = datetime.datetime.today()\n",
    "df_date_list = [df_base - datetime.timedelta(days=x) for x in range(0, 20)]\n",
    "df = pd.DataFrame(df_date_list)\n",
    "df.columns = ['Day']\n",
    "df.head()"
   ]
  },
  {
   "cell_type": "code",
   "execution_count": 4,
   "id": "54baf21c",
   "metadata": {},
   "outputs": [
    {
     "data": {
      "text/html": [
       "<div>\n",
       "<style scoped>\n",
       "    .dataframe tbody tr th:only-of-type {\n",
       "        vertical-align: middle;\n",
       "    }\n",
       "\n",
       "    .dataframe tbody tr th {\n",
       "        vertical-align: top;\n",
       "    }\n",
       "\n",
       "    .dataframe thead th {\n",
       "        text-align: right;\n",
       "    }\n",
       "</style>\n",
       "<table border=\"1\" class=\"dataframe\">\n",
       "  <thead>\n",
       "    <tr style=\"text-align: right;\">\n",
       "      <th></th>\n",
       "      <th>Day</th>\n",
       "      <th>Day_of_week</th>\n",
       "    </tr>\n",
       "  </thead>\n",
       "  <tbody>\n",
       "    <tr>\n",
       "      <th>0</th>\n",
       "      <td>2023-05-27 19:39:56.498532</td>\n",
       "      <td>Saturday</td>\n",
       "    </tr>\n",
       "    <tr>\n",
       "      <th>1</th>\n",
       "      <td>2023-05-26 19:39:56.498532</td>\n",
       "      <td>Friday</td>\n",
       "    </tr>\n",
       "    <tr>\n",
       "      <th>2</th>\n",
       "      <td>2023-05-25 19:39:56.498532</td>\n",
       "      <td>Thursday</td>\n",
       "    </tr>\n",
       "    <tr>\n",
       "      <th>3</th>\n",
       "      <td>2023-05-24 19:39:56.498532</td>\n",
       "      <td>Wednesday</td>\n",
       "    </tr>\n",
       "    <tr>\n",
       "      <th>4</th>\n",
       "      <td>2023-05-23 19:39:56.498532</td>\n",
       "      <td>Tuesday</td>\n",
       "    </tr>\n",
       "  </tbody>\n",
       "</table>\n",
       "</div>"
      ],
      "text/plain": [
       "                         Day Day_of_week\n",
       "0 2023-05-27 19:39:56.498532    Saturday\n",
       "1 2023-05-26 19:39:56.498532      Friday\n",
       "2 2023-05-25 19:39:56.498532    Thursday\n",
       "3 2023-05-24 19:39:56.498532   Wednesday\n",
       "4 2023-05-23 19:39:56.498532     Tuesday"
      ]
     },
     "execution_count": 4,
     "metadata": {},
     "output_type": "execute_result"
    }
   ],
   "source": [
    "#Taking the day names of a week\n",
    "#df['Day'] = pd.to_datetime(df['Day'])\n",
    "df['Day_of_week'] = df['Day'].dt.day_name()\n",
    "df.head()"
   ]
  },
  {
   "cell_type": "code",
   "execution_count": 5,
   "id": "5b63afdd",
   "metadata": {},
   "outputs": [],
   "source": [
    "# Engineer categorical variable by ordinal number replacement\n",
    "\n",
    "mapping_weekdays = {'Monday':1,\n",
    "               'Tuesday':2,\n",
    "               'Wednesday':3,\n",
    "               'Thursday':4,\n",
    "               'Friday':5,\n",
    "               'Saturday':6,\n",
    "               'Sunday':7\n",
    "}"
   ]
  },
  {
   "cell_type": "code",
   "execution_count": null,
   "id": "dc4424a5",
   "metadata": {},
   "outputs": [],
   "source": [
    "df['Original_day'] = df.Day_of_week.map(mapping_weekdays)\n",
    "df.head(20)"
   ]
  },
  {
   "cell_type": "markdown",
   "id": "4f44f045",
   "metadata": {},
   "source": [
    "### Advantages\n",
    "- Keeps the semantical information of the variable (human readable content)\n",
    "- Straightforward"
   ]
  },
  {
   "cell_type": "markdown",
   "id": "eb7fb217",
   "metadata": {},
   "source": [
    "### Disadvantages\n",
    "- Does not add machine learning valuable information"
   ]
  },
  {
   "cell_type": "code",
   "execution_count": null,
   "id": "ac114e63",
   "metadata": {},
   "outputs": [],
   "source": []
  }
 ],
 "metadata": {
  "kernelspec": {
   "display_name": "Python 3 (ipykernel)",
   "language": "python",
   "name": "python3"
  },
  "language_info": {
   "codemirror_mode": {
    "name": "ipython",
    "version": 3
   },
   "file_extension": ".py",
   "mimetype": "text/x-python",
   "name": "python",
   "nbconvert_exporter": "python",
   "pygments_lexer": "ipython3",
   "version": "3.10.9"
  }
 },
 "nbformat": 4,
 "nbformat_minor": 5
}
